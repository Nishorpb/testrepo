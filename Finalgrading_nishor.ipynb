{
    "cells": [
        {
            "cell_type": "markdown",
            "metadata": {
                "collapsed": true
            },
            "source": "# My Jupyter Notebook On Watson Studio"
        },
        {
            "cell_type": "markdown",
            "metadata": {},
            "source": "**Nishor P B**<br>\nAspiring AdTech Data Scientist"
        },
        {
            "cell_type": "markdown",
            "metadata": {},
            "source": "*I am interested in data science beacause with the digital transformation boom happening out there, data will rule the business ecosystem in the upcoming decades.*"
        },
        {
            "cell_type": "markdown",
            "metadata": {},
            "source": "### This Program is a loop that prints numbers from 1 to 4"
        },
        {
            "cell_type": "code",
            "execution_count": 8,
            "metadata": {},
            "outputs": [
                {
                    "name": "stdout",
                    "output_type": "stream",
                    "text": "1\n2\n3\n4\n"
                }
            ],
            "source": "for i in range (1,5):\n    print (i)"
        },
        {
            "cell_type": "markdown",
            "metadata": {},
            "source": "- Pooja\n- Shruthi\n- Anusuya\n- Devika"
        },
        {
            "cell_type": "markdown",
            "metadata": {},
            "source": "[My writing portfolio](https://nishorpb.contently.com/)"
        },
        {
            "cell_type": "markdown",
            "metadata": {},
            "source": "| A simple | table|\n| ----------- | ----------- |\n| S.no | Name |\n| 1 | Nishor |\n| 2 | Nikesh |"
        },
        {
            "cell_type": "markdown",
            "metadata": {},
            "source": ""
        }
    ],
    "metadata": {
        "kernelspec": {
            "display_name": "Python 3.8",
            "language": "python",
            "name": "python3"
        },
        "language_info": {
            "codemirror_mode": {
                "name": "ipython",
                "version": 3
            },
            "file_extension": ".py",
            "mimetype": "text/x-python",
            "name": "python",
            "nbconvert_exporter": "python",
            "pygments_lexer": "ipython3",
            "version": "3.8.12"
        }
    },
    "nbformat": 4,
    "nbformat_minor": 1
}